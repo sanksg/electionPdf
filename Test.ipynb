{
 "cells": [
  {
   "cell_type": "code",
   "execution_count": 18,
   "metadata": {
    "collapsed": false
   },
   "outputs": [],
   "source": [
    "import os\n",
    "import subprocess\n",
    "import re\n",
    "from PyPDF2 import PdfFileWriter, PdfFileReader"
   ]
  },
  {
   "cell_type": "code",
   "execution_count": 19,
   "metadata": {
    "collapsed": true
   },
   "outputs": [],
   "source": [
    "\n",
    "def run_tabula(pageRange, area, pdf):\n",
    "    cmd = \" \".join([tab_base_cmd, \"-p\", str(pageRange), \"-a\", area, pdf])\n",
    "    cmdOut = None\n",
    "\n",
    "    #Run the command and process output\n",
    "    try:\n",
    "        cmdOut = subprocess.check_output(cmd, universal_newlines=True)\n",
    "    except BaseException as e:\n",
    "        print(\"\\t**=> Exception while running subprocess\\nCommand:{}\\nError:{}\".format(pdf,cmd,str(e)))\n",
    "        return None\n",
    "\n",
    "    return cmdOut\n"
   ]
  },
  {
   "cell_type": "code",
   "execution_count": 32,
   "metadata": {
    "collapsed": false
   },
   "outputs": [],
   "source": [
    "# Holds the areas and text for verifying the page\n",
    "checkPageAreas = { \"t1p1\": [\"95.239,340.439,115.234,501.451\", \"FINAL RESULT SHEET\"],\n",
    "                   \"t1p2\": [\"71.034,14.207,129.967,58.406\", \"\\d+\"],\n",
    "                   \"t1l1\": [\"71.034,14.207,129.967,58.406\", \"Total No\"],\n",
    "                 }\n",
    "\n",
    "tab_base_cmd = \"java -jar tabula-0.9.1.jar --no-spreadsheet\"\n",
    "area_opt = \"-a\"\n",
    "page_opt = \"-p\""
   ]
  },
  {
   "cell_type": "code",
   "execution_count": 33,
   "metadata": {
    "collapsed": false
   },
   "outputs": [],
   "source": [
    "def verify_totals_page(pg, pdf):\n",
    "    cmdOut = run_tabula(pg, checkPageAreas['t1l1'][0], pdf)\n",
    "    if cmdOut == None:\n",
    "        print(\"Error: Could not verify if the page is indeed a totals page!\")\n",
    "        return None\n",
    "    \n",
    "    cmdOut = cmdOut.replace('\\n',' ')\n",
    "    match = re.findall(checkPageAreas['t1l1'][1], cmdOut)\n",
    "    if len(match) > 0:\n",
    "        print (\"TOTALS PAGE!\")\n",
    "    print(cmdOut)\n",
    "    "
   ]
  },
  {
   "cell_type": "code",
   "execution_count": 34,
   "metadata": {
    "collapsed": false
   },
   "outputs": [
    {
     "name": "stdout",
     "output_type": "stream",
     "text": [
      "TOTALS PAGE!\n",
      "Total No of Votes recorded at Polling \n"
     ]
    }
   ],
   "source": [
    "verify_totals_page(8, 'ge2014/F20AC001.pdf')"
   ]
  },
  {
   "cell_type": "code",
   "execution_count": null,
   "metadata": {
    "collapsed": true
   },
   "outputs": [],
   "source": []
  }
 ],
 "metadata": {
  "kernelspec": {
   "display_name": "Python 3",
   "language": "python",
   "name": "python3"
  },
  "language_info": {
   "codemirror_mode": {
    "name": "ipython",
    "version": 3
   },
   "file_extension": ".py",
   "mimetype": "text/x-python",
   "name": "python",
   "nbconvert_exporter": "python",
   "pygments_lexer": "ipython3",
   "version": "3.5.2"
  }
 },
 "nbformat": 4,
 "nbformat_minor": 0
}
