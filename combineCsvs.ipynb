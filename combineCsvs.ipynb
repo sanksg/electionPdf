{
 "cells": [
  {
   "cell_type": "code",
   "execution_count": 14,
   "metadata": {
    "collapsed": true
   },
   "outputs": [],
   "source": [
    "import numpy as np\n",
    "import pandas as pd"
   ]
  },
  {
   "cell_type": "code",
   "execution_count": 15,
   "metadata": {
    "collapsed": false
   },
   "outputs": [],
   "source": [
    "df = pd.read_csv(\"lacResults2016.csv\")"
   ]
  },
  {
   "cell_type": "code",
   "execution_count": 68,
   "metadata": {
    "collapsed": false,
    "scrolled": false
   },
   "outputs": [
    {
     "data": {
      "text/html": [
       "<div>\n",
       "<table border=\"1\" class=\"dataframe\">\n",
       "  <thead>\n",
       "    <tr style=\"text-align: right;\">\n",
       "      <th></th>\n",
       "      <th>S.N</th>\n",
       "      <th>Constituency</th>\n",
       "      <th>District</th>\n",
       "      <th>UDF candidate</th>\n",
       "      <th>Party</th>\n",
       "      <th>Votes</th>\n",
       "      <th>LDF candidate</th>\n",
       "      <th>Party.1</th>\n",
       "      <th>Votes.1</th>\n",
       "      <th>NDA candidate</th>\n",
       "      <th>Party.2</th>\n",
       "      <th>Votes.2</th>\n",
       "      <th>Winner</th>\n",
       "      <th>Margin</th>\n",
       "      <th>Winning Alliance</th>\n",
       "    </tr>\n",
       "  </thead>\n",
       "  <tbody>\n",
       "    <tr>\n",
       "      <th>0</th>\n",
       "      <td>1</td>\n",
       "      <td>Manjeshwar</td>\n",
       "      <td>Kasaragod</td>\n",
       "      <td>P.B. Abdul Razak</td>\n",
       "      <td>IUML</td>\n",
       "      <td>56870</td>\n",
       "      <td>C.H. Kunjambu</td>\n",
       "      <td>CPI(M)</td>\n",
       "      <td>42565</td>\n",
       "      <td>K. Surendran (politician)</td>\n",
       "      <td>BJP</td>\n",
       "      <td>56781</td>\n",
       "      <td>P.B. Abdul Razak</td>\n",
       "      <td>89</td>\n",
       "      <td>UDF</td>\n",
       "    </tr>\n",
       "    <tr>\n",
       "      <th>1</th>\n",
       "      <td>2</td>\n",
       "      <td>Kasargod</td>\n",
       "      <td>Kasaragod</td>\n",
       "      <td>N.A. Nellikkunnu</td>\n",
       "      <td>IUML</td>\n",
       "      <td>64727</td>\n",
       "      <td>A.A. Ameen</td>\n",
       "      <td>INL</td>\n",
       "      <td>21615</td>\n",
       "      <td>K. Ravisha Tantri</td>\n",
       "      <td>BJP</td>\n",
       "      <td>56120</td>\n",
       "      <td>N.A. Nellikkunnu</td>\n",
       "      <td>8607</td>\n",
       "      <td>UDF</td>\n",
       "    </tr>\n",
       "    <tr>\n",
       "      <th>2</th>\n",
       "      <td>3</td>\n",
       "      <td>Udma</td>\n",
       "      <td>Kasaragod</td>\n",
       "      <td>K. Sudhakaran</td>\n",
       "      <td>INC</td>\n",
       "      <td>66847</td>\n",
       "      <td>K. Kunhiraman</td>\n",
       "      <td>CPI(M)</td>\n",
       "      <td>70679</td>\n",
       "      <td>Sreekanth</td>\n",
       "      <td>BJP</td>\n",
       "      <td>21231</td>\n",
       "      <td>K Kunhiraman</td>\n",
       "      <td>3832</td>\n",
       "      <td>LDF</td>\n",
       "    </tr>\n",
       "    <tr>\n",
       "      <th>3</th>\n",
       "      <td>4</td>\n",
       "      <td>Kanhangad</td>\n",
       "      <td>Kasaragod</td>\n",
       "      <td>Dhanya Suresh</td>\n",
       "      <td>INC</td>\n",
       "      <td>54547</td>\n",
       "      <td>E. Chandrasekharan</td>\n",
       "      <td>CPI</td>\n",
       "      <td>80558</td>\n",
       "      <td>M.P. Raghavan</td>\n",
       "      <td>BDJS</td>\n",
       "      <td>21104</td>\n",
       "      <td>E Chandrasekharan</td>\n",
       "      <td>26011</td>\n",
       "      <td>LDF</td>\n",
       "    </tr>\n",
       "    <tr>\n",
       "      <th>4</th>\n",
       "      <td>5</td>\n",
       "      <td>Thrikkaripur</td>\n",
       "      <td>Kasaragod</td>\n",
       "      <td>K.P. Kunhikannan</td>\n",
       "      <td>INC</td>\n",
       "      <td>62327</td>\n",
       "      <td>M. Rajagopal</td>\n",
       "      <td>CPI(M)</td>\n",
       "      <td>79286</td>\n",
       "      <td>M. Bhaskaran</td>\n",
       "      <td>BJP</td>\n",
       "      <td>10767</td>\n",
       "      <td>M Rajagopal</td>\n",
       "      <td>16959</td>\n",
       "      <td>LDF</td>\n",
       "    </tr>\n",
       "  </tbody>\n",
       "</table>\n",
       "</div>"
      ],
      "text/plain": [
       "   S.N  Constituency   District     UDF candidate Party  Votes  \\\n",
       "0    1    Manjeshwar  Kasaragod  P.B. Abdul Razak  IUML  56870   \n",
       "1    2      Kasargod  Kasaragod  N.A. Nellikkunnu  IUML  64727   \n",
       "2    3          Udma  Kasaragod     K. Sudhakaran   INC  66847   \n",
       "3    4     Kanhangad  Kasaragod     Dhanya Suresh   INC  54547   \n",
       "4    5  Thrikkaripur  Kasaragod  K.P. Kunhikannan   INC  62327   \n",
       "\n",
       "        LDF candidate Party.1 Votes.1              NDA candidate Party.2  \\\n",
       "0       C.H. Kunjambu  CPI(M)   42565  K. Surendran (politician)     BJP   \n",
       "1          A.A. Ameen     INL   21615          K. Ravisha Tantri     BJP   \n",
       "2       K. Kunhiraman  CPI(M)   70679                  Sreekanth     BJP   \n",
       "3  E. Chandrasekharan     CPI   80558              M.P. Raghavan    BDJS   \n",
       "4        M. Rajagopal  CPI(M)   79286               M. Bhaskaran     BJP   \n",
       "\n",
       "   Votes.2             Winner  Margin Winning Alliance  \n",
       "0    56781   P.B. Abdul Razak      89              UDF  \n",
       "1    56120   N.A. Nellikkunnu    8607              UDF  \n",
       "2    21231       K Kunhiraman    3832              LDF  \n",
       "3    21104  E Chandrasekharan   26011              LDF  \n",
       "4    10767        M Rajagopal   16959              LDF  "
      ]
     },
     "execution_count": 68,
     "metadata": {},
     "output_type": "execute_result"
    }
   ],
   "source": [
    "df.head()"
   ]
  },
  {
   "cell_type": "code",
   "execution_count": 21,
   "metadata": {
    "collapsed": false
   },
   "outputs": [],
   "source": [
    "cans = pd.concat([pd.concat([df['Party'], df['Party.1'], df['Party.2']], axis=0), \n",
    "                  pd.concat([df['UDF candidate'], df['LDF candidate'], df['NDA candidate']], axis=0)], axis=1)"
   ]
  },
  {
   "cell_type": "code",
   "execution_count": 22,
   "metadata": {
    "collapsed": false
   },
   "outputs": [
    {
     "data": {
      "text/plain": [
       "(420, 2)"
      ]
     },
     "execution_count": 22,
     "metadata": {},
     "output_type": "execute_result"
    }
   ],
   "source": [
    "cans.shape"
   ]
  },
  {
   "cell_type": "code",
   "execution_count": 33,
   "metadata": {
    "collapsed": false
   },
   "outputs": [],
   "source": [
    "allia = pd.DataFrame(['UDF']*140 + ['LDF']*140 + ['NDA']*140)\n",
    "allia.index=cans.index\n"
   ]
  },
  {
   "cell_type": "code",
   "execution_count": 24,
   "metadata": {
    "collapsed": false
   },
   "outputs": [],
   "source": [
    "cans['Alliance'] = allia[0]"
   ]
  },
  {
   "cell_type": "code",
   "execution_count": 34,
   "metadata": {
    "collapsed": false
   },
   "outputs": [],
   "source": [
    "cans1 = pd.concat([cans, pd.concat([df['Votes'], df['Votes.1'], df['Votes.2']], axis=0)], axis = 1)"
   ]
  },
  {
   "cell_type": "code",
   "execution_count": 41,
   "metadata": {
    "collapsed": false
   },
   "outputs": [],
   "source": [
    "cans1.columns = ['Party', 'Candidate', 'Alliance', 'Votes']"
   ]
  },
  {
   "cell_type": "code",
   "execution_count": 66,
   "metadata": {
    "collapsed": false
   },
   "outputs": [],
   "source": [
    "cons = pd.concat([df['Constituency'], df['Constituency'], df['Constituency']], axis = 0)\n",
    "cons.index = cans1.index\n",
    "cans = pd.concat([cans1, cons], axis=1)"
   ]
  },
  {
   "cell_type": "code",
   "execution_count": 71,
   "metadata": {
    "collapsed": false
   },
   "outputs": [],
   "source": [
    "cans.index = range(0, cans.shape[0])"
   ]
  },
  {
   "cell_type": "code",
   "execution_count": 76,
   "metadata": {
    "collapsed": false
   },
   "outputs": [],
   "source": [
    "cans = cans[['Candidate', 'Constituency', 'Votes', 'Party', 'Alliance']]"
   ]
  },
  {
   "cell_type": "code",
   "execution_count": 83,
   "metadata": {
    "collapsed": false
   },
   "outputs": [],
   "source": [
    "cans.to_csv('candidates2016.csv', index=False)"
   ]
  },
  {
   "cell_type": "code",
   "execution_count": null,
   "metadata": {
    "collapsed": true
   },
   "outputs": [],
   "source": []
  }
 ],
 "metadata": {
  "kernelspec": {
   "display_name": "Python 3",
   "language": "python",
   "name": "python3"
  },
  "language_info": {
   "codemirror_mode": {
    "name": "ipython",
    "version": 3
   },
   "file_extension": ".py",
   "mimetype": "text/x-python",
   "name": "python",
   "nbconvert_exporter": "python",
   "pygments_lexer": "ipython3",
   "version": "3.5.2"
  }
 },
 "nbformat": 4,
 "nbformat_minor": 0
}
